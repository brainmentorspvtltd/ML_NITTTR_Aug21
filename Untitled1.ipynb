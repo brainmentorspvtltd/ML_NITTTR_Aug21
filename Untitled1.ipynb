{
 "cells": [
  {
   "cell_type": "code",
   "execution_count": 1,
   "metadata": {},
   "outputs": [],
   "source": [
    "import numpy as np"
   ]
  },
  {
   "cell_type": "code",
   "execution_count": 2,
   "metadata": {},
   "outputs": [],
   "source": [
    "data = np.random.randint(1,100,(6,4))"
   ]
  },
  {
   "cell_type": "code",
   "execution_count": 3,
   "metadata": {},
   "outputs": [
    {
     "data": {
      "text/plain": [
       "array([[ 6, 81, 50, 74],\n",
       "       [86, 10, 48, 60],\n",
       "       [64, 51, 16, 97],\n",
       "       [30, 29, 18, 91],\n",
       "       [40, 96, 49,  1],\n",
       "       [11, 77, 52, 56]])"
      ]
     },
     "execution_count": 3,
     "metadata": {},
     "output_type": "execute_result"
    }
   ],
   "source": [
    "data"
   ]
  },
  {
   "cell_type": "code",
   "execution_count": 4,
   "metadata": {},
   "outputs": [
    {
     "data": {
      "text/plain": [
       "array([[ 6, 81, 50, 74, 86, 10],\n",
       "       [48, 60, 64, 51, 16, 97],\n",
       "       [30, 29, 18, 91, 40, 96],\n",
       "       [49,  1, 11, 77, 52, 56]])"
      ]
     },
     "execution_count": 4,
     "metadata": {},
     "output_type": "execute_result"
    }
   ],
   "source": [
    "data.reshape(4,6)"
   ]
  },
  {
   "cell_type": "code",
   "execution_count": 5,
   "metadata": {},
   "outputs": [
    {
     "data": {
      "text/plain": [
       "array([[ 6, 81, 50, 74, 86, 10, 48, 60, 64, 51, 16, 97],\n",
       "       [30, 29, 18, 91, 40, 96, 49,  1, 11, 77, 52, 56]])"
      ]
     },
     "execution_count": 5,
     "metadata": {},
     "output_type": "execute_result"
    }
   ],
   "source": [
    "data.reshape(2,12)"
   ]
  },
  {
   "cell_type": "code",
   "execution_count": 6,
   "metadata": {},
   "outputs": [
    {
     "data": {
      "text/plain": [
       "array([[ 6, 81],\n",
       "       [50, 74],\n",
       "       [86, 10],\n",
       "       [48, 60],\n",
       "       [64, 51],\n",
       "       [16, 97],\n",
       "       [30, 29],\n",
       "       [18, 91],\n",
       "       [40, 96],\n",
       "       [49,  1],\n",
       "       [11, 77],\n",
       "       [52, 56]])"
      ]
     },
     "execution_count": 6,
     "metadata": {},
     "output_type": "execute_result"
    }
   ],
   "source": [
    "data.reshape(12,2)"
   ]
  },
  {
   "cell_type": "code",
   "execution_count": 7,
   "metadata": {},
   "outputs": [
    {
     "data": {
      "text/plain": [
       "array([[ 6, 81, 50],\n",
       "       [74, 86, 10],\n",
       "       [48, 60, 64],\n",
       "       [51, 16, 97],\n",
       "       [30, 29, 18],\n",
       "       [91, 40, 96],\n",
       "       [49,  1, 11],\n",
       "       [77, 52, 56]])"
      ]
     },
     "execution_count": 7,
     "metadata": {},
     "output_type": "execute_result"
    }
   ],
   "source": [
    "data.reshape(8,-1)"
   ]
  },
  {
   "cell_type": "code",
   "execution_count": 8,
   "metadata": {},
   "outputs": [
    {
     "data": {
      "text/plain": [
       "array([[ 6, 81, 50, 74, 86, 10, 48, 60],\n",
       "       [64, 51, 16, 97, 30, 29, 18, 91],\n",
       "       [40, 96, 49,  1, 11, 77, 52, 56]])"
      ]
     },
     "execution_count": 8,
     "metadata": {},
     "output_type": "execute_result"
    }
   ],
   "source": [
    "data.reshape(-1,8)"
   ]
  },
  {
   "cell_type": "code",
   "execution_count": null,
   "metadata": {},
   "outputs": [],
   "source": []
  }
 ],
 "metadata": {
  "kernelspec": {
   "display_name": "Python 3",
   "language": "python",
   "name": "python3"
  },
  "language_info": {
   "codemirror_mode": {
    "name": "ipython",
    "version": 3
   },
   "file_extension": ".py",
   "mimetype": "text/x-python",
   "name": "python",
   "nbconvert_exporter": "python",
   "pygments_lexer": "ipython3",
   "version": "3.8.5"
  }
 },
 "nbformat": 4,
 "nbformat_minor": 4
}
